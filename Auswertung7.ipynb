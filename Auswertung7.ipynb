{
 "metadata": {
  "name": "",
  "signature": "sha256:74b2feb1119bb91ba4094ebf0b22de44c0ad4800973c13b6d521b4012d11a689"
 },
 "nbformat": 3,
 "nbformat_minor": 0,
 "worksheets": [
  {
   "cells": [
    {
     "cell_type": "code",
     "collapsed": false,
     "input": [
      "import math\n",
      "import maabara as ma\n",
      "import quantities as pq\n",
      "from numpy import array\n",
      "from uncertainties import ufloat"
     ],
     "language": "python",
     "metadata": {},
     "outputs": [],
     "prompt_number": 1
    },
    {
     "cell_type": "code",
     "collapsed": false,
     "input": [
      "def pTex(x):\n",
      "    return \"$\"+str(ufloat(x[0],x[1])).replace(\"+/-\",\" \\pm \")+\"$\"\n",
      "def pTex2(x,n):\n",
      "    return pTex([x[0]*math.pow(10,n),x[1]*math.pow(10,n)])"
     ],
     "language": "python",
     "metadata": {},
     "outputs": [],
     "prompt_number": 2
    },
    {
     "cell_type": "heading",
     "level": 1,
     "metadata": {},
     "source": [
      "Adiabatenexponent"
     ]
    },
    {
     "cell_type": "heading",
     "level": 2,
     "metadata": {},
     "source": [
      "R\u00fcchardt"
     ]
    },
    {
     "cell_type": "code",
     "collapsed": false,
     "input": [
      "b = [101570.,10.] #Pa\n",
      "m = 8.432e-3 #kg\n",
      "d = 11.93e-3 #mm\n",
      "V = 2225e-6 #m^3\n",
      "rho_L = 1.2 #kg/m^3\n",
      "g = 9.81 #m/s^2\n",
      "A = math.pi*d*d/4"
     ],
     "language": "python",
     "metadata": {},
     "outputs": [],
     "prompt_number": 3
    },
    {
     "cell_type": "code",
     "collapsed": false,
     "input": [
      "T_CO2 = [[1,[663,663,664,664,664,664,664,664,664,665]],\\\n",
      "         [10,[6660,6663,6663]],\\\n",
      "         [20,[13344,13355,13364]],\\\n",
      "         [50,[33500,33531,33551]],\\\n",
      "         [100,[67150,67204,67244]]]\n",
      "l_CO2 = [0.195,0.005]"
     ],
     "language": "python",
     "metadata": {},
     "outputs": [],
     "prompt_number": 4
    },
    {
     "cell_type": "code",
     "collapsed": false,
     "input": [
      "T_Argon = [[1,[601,602,602,601,602,602,601,602,601,602]],\\\n",
      "           [10,[6031,6025,6028]],\\\n",
      "           [20,[12089,12082,12073]],\\\n",
      "           [50,[30418,30328,30276]],\\\n",
      "           [100,[61923,61485,61098]]]\n",
      "l_Argon = [0.125,0.005]"
     ],
     "language": "python",
     "metadata": {},
     "outputs": [],
     "prompt_number": 5
    },
    {
     "cell_type": "code",
     "collapsed": false,
     "input": [
      "T_Luft = [[1,[637,639,639,639,640,639,640,640,640,640]],\\\n",
      "          [10,[6407,6410,6414]],\\\n",
      "          [20,[12840,12853,12858]],\\\n",
      "          [50,[32186,32229,32255]],\\\n",
      "          [100,[64590,64634,64685]]]\n",
      "l_Luft = [0.175,0.005]"
     ],
     "language": "python",
     "metadata": {},
     "outputs": [],
     "prompt_number": 6
    },
    {
     "cell_type": "code",
     "collapsed": false,
     "input": [
      "Gas=[\"CO$_2$\",\"Argon\",\"Luft\"]\n",
      "T=[T_CO2,T_Argon,T_Luft]\n",
      "l=[l_CO2,l_Argon,l_Luft]\n",
      "m1 = []\n",
      "p = []\n",
      "for i in range(len(l)):\n",
      "    m1.append([m+rho_L*A*l[i][0],rho_L*A*l[i][1]])\n",
      "    p.append([b[0]+m1[i][0]*g/A,math.sqrt(b[1]*b[1]+math.pow(m1[i][1]*g/A,2))])\n",
      "    print Gas[i],\"&\",pTex2(m1[i],3),\"&\",pTex2(p[i],-2),\"\\\\\\\\\""
     ],
     "language": "python",
     "metadata": {},
     "outputs": [
      {
       "output_type": "stream",
       "stream": "stdout",
       "text": [
        "CO$_2$ & $8.4582 \\pm 0.0007$ & $1023.12 \\pm 0.10$ \\\\\n",
        "Argon & $8.4488 \\pm 0.0007$ & $1023.11 \\pm 0.10$ \\\\\n",
        "Luft & $8.4555 \\pm 0.0007$ & $1023.12 \\pm 0.10$ \\\\\n"
       ]
      }
     ],
     "prompt_number": 7
    },
    {
     "cell_type": "code",
     "collapsed": false,
     "input": [
      "AdEx = ma.uncertainty.Sheet()\n",
      "AdEx.eq(\"64*m1*V/(T^2*p*d^4)\",\"\\kappa\")\n",
      "AdEx.v('d',d)\n",
      "AdEx.v('V',V)\n",
      "kappa = []\n",
      "kappa_mit = []\n",
      "f = []\n",
      "for i in range(len(T)):\n",
      "    print Gas[i]\n",
      "    AdEx.v('m1',m1[i][0],m1[i][1],\"m_{eff}\")\n",
      "    AdEx.v('p',p[i][0],p[i][1])\n",
      "    kappa.append([])\n",
      "    for k in range(len(T[i])):\n",
      "        t = ma.data.student_t(T[i][k][1])\n",
      "        t = [t[0]/T[i][k][0],(math.sqrt(t[1]**2+1))/T[i][k][0]] # mit Messungenauigkeit\n",
      "        t = [t[0]*1e-3,t[1]*1e-3]\n",
      "        AdEx.v('T',t[0],t[1])\n",
      "        kappa[i].append(AdEx.get_result())\n",
      "        print \"&\",T[i][k][0],\"&\",pTex2(t,3),\"&\",pTex(kappa[i][k]),\"\\\\\\\\\"\n",
      "    kappa_mit.append(ma.data.weighted_average(kappa[i]))\n",
      "    frei = ma.uncertainty.Sheet()\n",
      "    frei.eq(\"2/(k-1)\",\"f\")\n",
      "    frei.v('k',kappa_mit[i][0],kappa_mit[i][1],\"\\kappa\")\n",
      "    f.append(frei.get_result())\n",
      "    #print Gas[i],\"&\",pTex(kappa_mit[i]),\"&\",pTex(f[i]), \"\\\\\\\\\""
     ],
     "language": "python",
     "metadata": {},
     "outputs": [
      {
       "output_type": "stream",
       "stream": "stdout",
       "text": [
        "CO$_2$\n",
        "&"
       ]
      },
      {
       "output_type": "stream",
       "stream": "stdout",
       "text": [
        " 1 & $663.9 \\pm 1.0$ & $1.319 \\pm 0.004$ \\\\\n",
        "& 10 & $666.20 \\pm 0.17$ & $1.3094 \\pm 0.0007$ \\\\\n",
        "&"
       ]
      },
      {
       "output_type": "stream",
       "stream": "stdout",
       "text": [
        " 20 & $667.7 \\pm 0.4$ & $1.3035 \\pm 0.0015$ \\\\\n",
        "& 50 & $670.5 \\pm 0.4$ & $1.2925 \\pm 0.0015$ \\\\\n",
        "&"
       ]
      },
      {
       "output_type": "stream",
       "stream": "stdout",
       "text": [
        " 100 & $672.0 \\pm 0.4$ & $1.2870 \\pm 0.0014$ \\\\\n",
        "Argon"
       ]
      },
      {
       "output_type": "stream",
       "stream": "stdout",
       "text": [
        "\n",
        "&"
       ]
      },
      {
       "output_type": "stream",
       "stream": "stdout",
       "text": [
        " 1 & $601.6 \\pm 1.0$ & $1.604 \\pm 0.005$ \\\\\n",
        "& 10 & $602.80 \\pm 0.25$ & $1.5976 \\pm 0.0013$ \\\\\n",
        "&"
       ]
      },
      {
       "output_type": "stream",
       "stream": "stdout",
       "text": [
        " 20 & $604.07 \\pm 0.31$ & $1.5909 \\pm 0.0016$ \\\\\n",
        "& 50 & $606.8 \\pm 1.1$ & $1.577 \\pm 0.006$ \\\\\n",
        "&"
       ]
      },
      {
       "output_type": "stream",
       "stream": "stdout",
       "text": [
        " 100 & $615.0 \\pm 3.1$ & $1.535 \\pm 0.016$ \\\\\n",
        "Luft"
       ]
      },
      {
       "output_type": "stream",
       "stream": "stdout",
       "text": [
        "\n",
        "&"
       ]
      },
      {
       "output_type": "stream",
       "stream": "stdout",
       "text": [
        " 1 & $639.3 \\pm 1.0$ & $1.422 \\pm 0.005$ \\\\\n",
        "& 10 & $641.03 \\pm 0.29$ & $1.4138 \\pm 0.0013$ \\\\\n",
        "&"
       ]
      },
      {
       "output_type": "stream",
       "stream": "stdout",
       "text": [
        " 20 & $642.5 \\pm 0.4$ & $1.4073 \\pm 0.0016$ \\\\\n",
        "&"
       ]
      },
      {
       "output_type": "stream",
       "stream": "stdout",
       "text": [
        " 50 & $644.5 \\pm 0.5$ & $1.3988 \\pm 0.0023$ \\\\\n",
        "& 100 & $646.4 \\pm 0.4$ & $1.3906 \\pm 0.0016$ \\\\\n"
       ]
      }
     ],
     "prompt_number": 8
    },
    {
     "cell_type": "code",
     "collapsed": false,
     "input": [],
     "language": "python",
     "metadata": {},
     "outputs": [],
     "prompt_number": 8
    },
    {
     "cell_type": "heading",
     "level": 2,
     "metadata": {},
     "source": [
      "Clement-Desormes"
     ]
    },
    {
     "cell_type": "code",
     "collapsed": false,
     "input": [
      "h1 = [[0.1,[82.,64.,87.]],\\\n",
      "      [1.0,[93.,67.,83.]],\\\n",
      "      [5.0,[93.,88.,97.]]]\n",
      "h2 = [[0.1,[12.,11.,17.]],\\\n",
      "      [1.0,[17.,12.,16.]],\\\n",
      "      [5.0,[14.,14.,14.]]]\n",
      "h_sigma = 2\n",
      "AdEx2 = ma.uncertainty.Sheet()\n",
      "AdEx2.eq(\"h/(h-g)\",\"\\kappa\")\n",
      "kappa2 = []\n",
      "kappa2_mit = []\n",
      "for i in range(len(h1)):\n",
      "    kappa2.append([])\n",
      "    for k in range(len(h1[i][1])):\n",
      "        AdEx2.v('h',h1[i][1][k],h_sigma,\"\\Delta h_1\")\n",
      "        AdEx2.v('g',h2[i][1][k],h_sigma,\"\\Delta h_2\")\n",
      "        kappa2[i].append(AdEx2.get_result())\n",
      "    kappa2_mit.append(ma.data.weighted_average(kappa2[i]))\n",
      "    print h1[i][0],pTex(kappa2_mit[i])"
     ],
     "language": "python",
     "metadata": {},
     "outputs": [
      {
       "output_type": "stream",
       "stream": "stdout",
       "text": [
        "0.1 $1.205 \\pm 0.022$\n",
        "1.0"
       ]
      },
      {
       "output_type": "stream",
       "stream": "stdout",
       "text": [
        " $1.227 \\pm 0.022$\n",
        "5.0"
       ]
      },
      {
       "output_type": "stream",
       "stream": "stdout",
       "text": [
        " $1.177 \\pm 0.017$\n"
       ]
      }
     ],
     "prompt_number": 9
    },
    {
     "cell_type": "code",
     "collapsed": false,
     "input": [
      "#AdEx.print_result('short')\n",
      "#for i in range(len(kappa2_mit)):\n",
      "#   print \"$\",h1[i][0],\"$ & $\",kappa2_mit[i][0],\"\\pm\",kappa2_mit[i][1],\"$ \\\\\\\\\""
     ],
     "language": "python",
     "metadata": {},
     "outputs": [],
     "prompt_number": 10
    },
    {
     "cell_type": "heading",
     "level": 2,
     "metadata": {},
     "source": [
      "Kappa f\u00fcr Luft"
     ]
    },
    {
     "cell_type": "code",
     "collapsed": false,
     "input": [
      "kappaLuft = kappa2_mit\n",
      "if(len(kappaLuft)==3):kappaLuft.append(kappa_mit[2])\n",
      "kappa3 = ma.data.weighted_average(kappaLuft)\n",
      "print pTex(kappa3)\n",
      "print kappa2_mit"
     ],
     "language": "python",
     "metadata": {},
     "outputs": [
      {
       "output_type": "stream",
       "stream": "stdout",
       "text": [
        "$1.4042 \\pm 0.0008$\n",
        "[(1.2053650729487617, 0.021792595628727277), (1.2274107808147372, 0.021657365948151486), (1.1774455780061348, 0.017459908680920896), (1.4050859215432834, 0.00077655215420291141)]\n"
       ]
      }
     ],
     "prompt_number": 12
    },
    {
     "cell_type": "code",
     "collapsed": false,
     "input": [],
     "language": "python",
     "metadata": {},
     "outputs": [],
     "prompt_number": 11
    }
   ],
   "metadata": {}
  }
 ]
}